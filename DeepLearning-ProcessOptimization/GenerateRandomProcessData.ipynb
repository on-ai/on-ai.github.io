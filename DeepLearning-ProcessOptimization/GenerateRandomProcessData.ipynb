{
 "cells": [
  {
   "cell_type": "code",
   "execution_count": 4,
   "metadata": {},
   "outputs": [
    {
     "name": "stdout",
     "output_type": "stream",
     "text": [
      "Generate Random Process Data\n"
     ]
    }
   ],
   "source": [
    "print (\"Generate Random Process Data\")"
   ]
  },
  {
   "cell_type": "code",
   "execution_count": 5,
   "metadata": {},
   "outputs": [],
   "source": [
    "from sklearn.datasets import make_regression"
   ]
  },
  {
   "cell_type": "code",
   "execution_count": 9,
   "metadata": {},
   "outputs": [],
   "source": [
    "# Create the dataset\n",
    "\n",
    "def load_data(how_many=0):\n",
    "\tif how_many == 0:\n",
    "\t\tsamples = 1000\n",
    "\telif how_many == 1:\n",
    "\t\tsamples = 100000\n",
    "\telif how_many == 2:\n",
    "\t\tsamples = 1000000\n",
    "\telse:\n",
    "\t\tsamples = how_many\n",
    "\n",
    "\tX, y = make_regression(n_samples=samples, n_features=10, n_informative=5, n_targets=3, random_state=42)\n",
    "\tprint(\"samples: \", samples)\n",
    "\treturn X, y"
   ]
  },
  {
   "attachments": {},
   "cell_type": "markdown",
   "metadata": {},
   "source": [
    "n_samples = 1000\n",
    "n_features = 10\n",
    "n_informative = 5\n",
    "n_targets = 3\n",
    "lst_informative = [{\"Pressure\"}]"
   ]
  },
  {
   "cell_type": "code",
   "execution_count": 7,
   "metadata": {},
   "outputs": [
    {
     "name": "stdout",
     "output_type": "stream",
     "text": [
      "samples:  1000\n",
      "[[-0.65902383 -0.39102467 -0.22327159 ...  0.62558459 -0.05123584\n",
      "  -0.91345858]\n",
      " [-1.07085242 -0.41790955  0.93791554 ...  0.18471047 -1.25492267\n",
      "   0.18947982]\n",
      " [ 0.1409827   0.1455212  -0.41361567 ... -0.38769992 -0.80496648\n",
      "  -1.14100851]\n",
      " ...\n",
      " [ 0.34378788 -0.96375893  1.03524933 ...  0.89019841 -0.92423314\n",
      "  -0.75849533]\n",
      " [-1.09840922 -0.27284455  0.12417568 ... -0.69826185  0.99597368\n",
      "  -1.00429056]\n",
      " [ 0.5873917   1.66373283 -0.14325892 ... -1.29056142  0.23855495\n",
      "  -0.50123411]]\n"
     ]
    }
   ],
   "source": [
    "x,y = load_data(10)\n",
    "print(x)\n",
    "\n"
   ]
  },
  {
   "cell_type": "code",
   "execution_count": null,
   "metadata": {},
   "outputs": [],
   "source": []
  }
 ],
 "metadata": {
  "interpreter": {
   "hash": "49cb93f377a7abe7414b7b0f21fb3017538004a126cf690fb524202736b7fb92"
  },
  "kernelspec": {
   "display_name": "Python 3.9.7 ('base')",
   "language": "python",
   "name": "python3"
  },
  "language_info": {
   "codemirror_mode": {
    "name": "ipython",
    "version": 3
   },
   "file_extension": ".py",
   "mimetype": "text/x-python",
   "name": "python",
   "nbconvert_exporter": "python",
   "pygments_lexer": "ipython3",
   "version": "3.9.7"
  },
  "orig_nbformat": 4
 },
 "nbformat": 4,
 "nbformat_minor": 2
}
