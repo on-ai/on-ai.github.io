{
 "cells": [
  {
   "cell_type": "code",
   "execution_count": 55,
   "metadata": {},
   "outputs": [
    {
     "name": "stdout",
     "output_type": "stream",
     "text": [
      "DLModel\n"
     ]
    }
   ],
   "source": [
    "print(\"DLModel\")\n",
    "\n",
    "\n",
    "# mlp for multi-output regression\n",
    "from numpy import mean\n",
    "from numpy import std\n",
    "from numpy import asarray\n",
    "from sklearn.datasets import make_regression\n",
    "from sklearn.model_selection import RepeatedKFold\n",
    "from keras.models import Sequential\n",
    "from keras.layers import Dense\n",
    "\n",
    "max_models = 2\n",
    "res_lst = []\n",
    "model_lst = []\n",
    "\n",
    "\n",
    "# get the dataset\n",
    "def load_data(how_many=0):\n",
    "\tif how_many == 0:\n",
    "\t\tsamples = 1000\n",
    "\telif how_many == 1:\n",
    "\t\tsamples = 100000\n",
    "\telif how_many == 2:\n",
    "\t\tsamples = 1000000\n",
    "\n",
    "\tX, y = make_regression(n_samples=samples, n_features=10, n_informative=5, n_targets=3, random_state=42)\n",
    "\tprint(\"samples: \", samples)\n",
    "\treturn X, y\n",
    "\n",
    "# get the model\n",
    "def get_model(n_inputs, n_outputs, num):\n",
    "\tif num == 0:\n",
    "\t\tlcl_model = Sequential()\n",
    "\t\tlcl_model.add(Dense(20, input_dim=n_inputs, kernel_initializer='he_uniform', activation='relu'))\n",
    "\t\tlcl_model.add(Dense(n_outputs))\n",
    "\t\tlcl_model.compile(loss='mae', optimizer='adam')\n",
    "\telif num == 1:\n",
    "\t\tlcl_model = Sequential()\n",
    "\t\tlcl_model.add(Dense(22, input_dim=n_inputs, kernel_initializer='he_uniform', activation='relu'))\n",
    "\t\tlcl_model.add(Dense(n_outputs))\n",
    "\t\tlcl_model.compile(loss='mae', optimizer='adam')\n",
    "\treturn lcl_model\n",
    "\n",
    "\n",
    "\n",
    "# evaluate a model using repeated k-fold cross-validation\n",
    "def evaluate_model(X, y, model_num):\n",
    "\tresults = list()\n",
    "\tmodels = []\n",
    "\n",
    "\t# define evaluation procedure\n",
    "\tcv = RepeatedKFold(n_splits=10, n_repeats=3, random_state=1)\n",
    "\t# enumerate folds\n",
    "\tfor train_ix, test_ix in cv.split(X):\n",
    "\t\t# prepare data\n",
    "\t\tn_inputs, n_outputs = X.shape[1], y.shape[1]\n",
    "\t\tX_train, X_test = X[train_ix], X[test_ix]\n",
    "\t\ty_train, y_test = y[train_ix], y[test_ix]\n",
    "\n",
    "\t\t# define model\n",
    "\t\tmodel = get_model(n_inputs, n_outputs, model_num)\n",
    "\t\t# fit model\n",
    "\t\tmodel.fit(X_train, y_train, verbose=0, epochs=5)\n",
    "\t\t# evaluate model on test set\n",
    "\t\tmae = model.evaluate(X_test, y_test, verbose=0)\n",
    "\t\t# store result\n",
    "\t\t# print('model_num: %d metrics_names: %s mae>%.3f' % (model_num, model.metrics_names, mae))\n",
    "\t\tresults.append(mae)\n",
    "\t\tmodels.append(model)\n",
    "\treturn mean(results), models[0]\n",
    "\n",
    "\n",
    "\n",
    "\n",
    "\n",
    "\n",
    "\n",
    "\n"
   ]
  },
  {
   "cell_type": "code",
   "execution_count": 56,
   "metadata": {},
   "outputs": [
    {
     "name": "stdout",
     "output_type": "stream",
     "text": [
      "samples:  1000\n",
      "Model Number: 0 metrics_names: ['loss'] Result: 66.434 Model address: <keras.engine.sequential.Sequential object at 0x00000200230FB9A0>\n",
      "Model Number: 1 metrics_names: ['loss'] Result: 66.290 Model address: <keras.engine.sequential.Sequential object at 0x000002003270FD00>\n",
      "best_result: 66.434 best_model <keras.engine.sequential.Sequential object at 0x00000200230FB9A0>\n",
      "samples:  100000\n",
      "Model Number: 0 metrics_names: ['loss'] Result: 1.316 Model address: <keras.engine.sequential.Sequential object at 0x000002002AD450A0>\n",
      "Model Number: 1 metrics_names: ['loss'] Result: 1.147 Model address: <keras.engine.sequential.Sequential object at 0x000002001E9C8BE0>\n",
      "best_result: 1.316 best_model <keras.engine.sequential.Sequential object at 0x000002002AD450A0>\n",
      "samples:  1000000\n",
      "Model Number: 0 metrics_names: ['loss'] Result: 0.026 Model address: <keras.engine.sequential.Sequential object at 0x000002001D7C0DC0>\n",
      "Model Number: 1 metrics_names: ['loss'] Result: 0.025 Model address: <keras.engine.sequential.Sequential object at 0x000002001D86B7F0>\n",
      "best_result: 0.026 best_model <keras.engine.sequential.Sequential object at 0x000002001D7C0DC0>\n"
     ]
    }
   ],
   "source": [
    "# For each test case\n",
    "for test_case in range(3):\n",
    "\t# load dataset\n",
    "\tX, y = load_data(test_case)\n",
    "\n",
    "\t# Let's try each model\n",
    "\tbest_result = 0.0\n",
    "\tbest_model = None\n",
    "\tfor curr_model in range(max_models):\n",
    "\t\t# evaluate model\n",
    "\t\tresult, model = evaluate_model(X, y, curr_model)\n",
    "\t\tres_lst.append(result)\n",
    "\t\tmodel_lst.append(model)\n",
    "\t\tprint('Model Number: %d metrics_names: %s Result: %.3f Model address: %s' % (curr_model, model.metrics_names, result, model))\n",
    "\t\tif result > best_result:\n",
    "\t\t\tbest_result = result\n",
    "\t\t\tbest_model = model\n",
    "\n",
    "\n",
    "\tprint(\"best_result: %.3f best_model %s\" % (best_result, best_model))"
   ]
  },
  {
   "cell_type": "code",
   "execution_count": 57,
   "metadata": {},
   "outputs": [
    {
     "name": "stdout",
     "output_type": "stream",
     "text": [
      "1/1 [==============================] - 0s 31ms/step\n",
      "Predicted: [-253.91241 -190.95555 -158.85423]\n"
     ]
    }
   ],
   "source": [
    "# make a prediction for new data\n",
    "row = [-0.99859353,2.19284309,-0.42632569,-0.21043258,-1.13655612,-0.55671602,-0.63169045,-0.87625098,-0.99445578,-0.3677487]\n",
    "newX = asarray([row])\n",
    "yhat = best_model.predict(newX)\n",
    "print('Predicted: %s' % yhat[0])"
   ]
  }
 ],
 "metadata": {
  "kernelspec": {
   "display_name": "Python 3.9.7 ('base')",
   "language": "python",
   "name": "python3"
  },
  "language_info": {
   "codemirror_mode": {
    "name": "ipython",
    "version": 3
   },
   "file_extension": ".py",
   "mimetype": "text/x-python",
   "name": "python",
   "nbconvert_exporter": "python",
   "pygments_lexer": "ipython3",
   "version": "3.9.7 (default, Sep 16 2021, 16:59:28) [MSC v.1916 64 bit (AMD64)]"
  },
  "orig_nbformat": 4,
  "vscode": {
   "interpreter": {
    "hash": "49cb93f377a7abe7414b7b0f21fb3017538004a126cf690fb524202736b7fb92"
   }
  }
 },
 "nbformat": 4,
 "nbformat_minor": 2
}
